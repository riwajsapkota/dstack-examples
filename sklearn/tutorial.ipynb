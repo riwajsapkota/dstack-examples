{
 "cells": [
  {
   "cell_type": "markdown",
   "metadata": {},
   "source": [
    "# Simple Application with a Scikit-learn ML Model\n",
    "\n",
    "One of the simplest yet typical problem that Machine Learning can help with in business is churn prediction. In this tutorial, we'll go through simple steps of solving this problem. We'll start with a problem definition, we'll do data exploratory analysis, prototype a model, and in the end, building an application that uses that model against the live data to help the sales department to plan their activities based on the predictions.\n",
    "\n",
    "### Disclaimers\n",
    "\n",
    "Note, in this tutorial there a lot of things, that in a real case are quite complicated, are simplified for the education purposes. Here's what is important:\n",
    "\n",
    "1. In real life, data often resides in multiple data sources (including databases and datalakes) and needs additional cleanups and processing (often done using ETL solutions). In this tutorial, we'll use an already prepared dataset that emulates to a certain extent the data that is close to a real scenario.\n",
    "2. When it comes to using ML model in a real situation, one of the most critical facts in the end is the acccuracy, reliability, and explainability of the model. In this tutorial, those questions will be only touched upon and will require from you additional dedicated work.\n",
    "3. The target audience of this tutorials includes beginner data scientists that are only starting their data science careers interested in not just building an ML model but also putting it into production to drive day-to-day business decisions.\n",
    "\n",
    "In this tutorial, we'll use `pandas` to work with data, `scikit-learn` to transform and train the model, and `dstack` to deploy the model and build the business application.\n",
    "\n",
    "\n",
    "### Problem definition\n",
    "\n",
    "\n",
    "\n",
    "### Exploring data"
   ]
  },
  {
   "cell_type": "code",
   "execution_count": 1,
   "metadata": {
    "pycharm": {
     "name": "#%%\n"
    }
   },
   "outputs": [],
   "source": [
    "import pandas as pd"
   ]
  },
  {
   "cell_type": "code",
   "execution_count": 2,
   "metadata": {},
   "outputs": [
    {
     "data": {
      "text/plain": "                      Company        Country          Region  \\\n0                        ICBC          China  Asia & Pacific   \n1     China Construction Bank          China  Asia & Pacific   \n2          Berkshire Hathaway  United States   North America   \n3              JPMorgan Chase  United States   North America   \n4                 Wells Fargo  United States   North America   \n...                       ...            ...             ...   \n1995                BEKB-BCBE    Switzerland          Europe   \n1996        Fastighets Balder         Sweden          Europe   \n1997      Akamai Technologies  United States   North America   \n1998                Oita Bank          Japan  Asia & Pacific   \n1999            Tech Mahindra          India  Asia & Pacific   \n\n                      Sector           Manager  y2015  y2016  y2017  y2018  \\\n0                 Financials  Edgar Livingston      0      0      0   1651   \n1                 Financials        Shawn Kirk      0   1774   1609   1624   \n2                 Financials     Alonzo Pierce      0   3286   3405   4082   \n3                 Financials   Abram Gallagher      0      0   1671   1535   \n4                 Financials     Eugene Graves      0   1362   1209   1203   \n...                      ...               ...    ...    ...    ...    ...   \n1995              Financials   Darrell Frazier      8      7      8      7   \n1996               Materials      Esther Knapp      0      0      0      8   \n1997  Information Technology     Eugene Graves      0      0     41     44   \n1998              Financials  Frankie Valencia     10     11     12     10   \n1999  Information Technology  Frankie Valencia      0      0     42     49   \n\n      y2019  RenewalMonth RenewalDate  Churn  \n0      1423             4  2020-04-07    0.0  \n1      1876             1  2020-01-21    0.0  \n2      4281             5  2020-05-01    0.0  \n3      1806             8  2020-08-12    0.0  \n4      1017             1  2020-01-13    0.0  \n...     ...           ...         ...    ...  \n1995      6             2  2020-02-15    1.0  \n1996      8             1  2020-01-24    0.0  \n1997     38             4  2020-04-25    0.0  \n1998      8             7  2020-07-28    0.0  \n1999     43            11  2020-11-17    NaN  \n\n[2000 rows x 13 columns]",
      "text/html": "<div>\n<style scoped>\n    .dataframe tbody tr th:only-of-type {\n        vertical-align: middle;\n    }\n\n    .dataframe tbody tr th {\n        vertical-align: top;\n    }\n\n    .dataframe thead th {\n        text-align: right;\n    }\n</style>\n<table border=\"1\" class=\"dataframe\">\n  <thead>\n    <tr style=\"text-align: right;\">\n      <th></th>\n      <th>Company</th>\n      <th>Country</th>\n      <th>Region</th>\n      <th>Sector</th>\n      <th>Manager</th>\n      <th>y2015</th>\n      <th>y2016</th>\n      <th>y2017</th>\n      <th>y2018</th>\n      <th>y2019</th>\n      <th>RenewalMonth</th>\n      <th>RenewalDate</th>\n      <th>Churn</th>\n    </tr>\n  </thead>\n  <tbody>\n    <tr>\n      <th>0</th>\n      <td>ICBC</td>\n      <td>China</td>\n      <td>Asia &amp; Pacific</td>\n      <td>Financials</td>\n      <td>Edgar Livingston</td>\n      <td>0</td>\n      <td>0</td>\n      <td>0</td>\n      <td>1651</td>\n      <td>1423</td>\n      <td>4</td>\n      <td>2020-04-07</td>\n      <td>0.0</td>\n    </tr>\n    <tr>\n      <th>1</th>\n      <td>China Construction Bank</td>\n      <td>China</td>\n      <td>Asia &amp; Pacific</td>\n      <td>Financials</td>\n      <td>Shawn Kirk</td>\n      <td>0</td>\n      <td>1774</td>\n      <td>1609</td>\n      <td>1624</td>\n      <td>1876</td>\n      <td>1</td>\n      <td>2020-01-21</td>\n      <td>0.0</td>\n    </tr>\n    <tr>\n      <th>2</th>\n      <td>Berkshire Hathaway</td>\n      <td>United States</td>\n      <td>North America</td>\n      <td>Financials</td>\n      <td>Alonzo Pierce</td>\n      <td>0</td>\n      <td>3286</td>\n      <td>3405</td>\n      <td>4082</td>\n      <td>4281</td>\n      <td>5</td>\n      <td>2020-05-01</td>\n      <td>0.0</td>\n    </tr>\n    <tr>\n      <th>3</th>\n      <td>JPMorgan Chase</td>\n      <td>United States</td>\n      <td>North America</td>\n      <td>Financials</td>\n      <td>Abram Gallagher</td>\n      <td>0</td>\n      <td>0</td>\n      <td>1671</td>\n      <td>1535</td>\n      <td>1806</td>\n      <td>8</td>\n      <td>2020-08-12</td>\n      <td>0.0</td>\n    </tr>\n    <tr>\n      <th>4</th>\n      <td>Wells Fargo</td>\n      <td>United States</td>\n      <td>North America</td>\n      <td>Financials</td>\n      <td>Eugene Graves</td>\n      <td>0</td>\n      <td>1362</td>\n      <td>1209</td>\n      <td>1203</td>\n      <td>1017</td>\n      <td>1</td>\n      <td>2020-01-13</td>\n      <td>0.0</td>\n    </tr>\n    <tr>\n      <th>...</th>\n      <td>...</td>\n      <td>...</td>\n      <td>...</td>\n      <td>...</td>\n      <td>...</td>\n      <td>...</td>\n      <td>...</td>\n      <td>...</td>\n      <td>...</td>\n      <td>...</td>\n      <td>...</td>\n      <td>...</td>\n      <td>...</td>\n    </tr>\n    <tr>\n      <th>1995</th>\n      <td>BEKB-BCBE</td>\n      <td>Switzerland</td>\n      <td>Europe</td>\n      <td>Financials</td>\n      <td>Darrell Frazier</td>\n      <td>8</td>\n      <td>7</td>\n      <td>8</td>\n      <td>7</td>\n      <td>6</td>\n      <td>2</td>\n      <td>2020-02-15</td>\n      <td>1.0</td>\n    </tr>\n    <tr>\n      <th>1996</th>\n      <td>Fastighets Balder</td>\n      <td>Sweden</td>\n      <td>Europe</td>\n      <td>Materials</td>\n      <td>Esther Knapp</td>\n      <td>0</td>\n      <td>0</td>\n      <td>0</td>\n      <td>8</td>\n      <td>8</td>\n      <td>1</td>\n      <td>2020-01-24</td>\n      <td>0.0</td>\n    </tr>\n    <tr>\n      <th>1997</th>\n      <td>Akamai Technologies</td>\n      <td>United States</td>\n      <td>North America</td>\n      <td>Information Technology</td>\n      <td>Eugene Graves</td>\n      <td>0</td>\n      <td>0</td>\n      <td>41</td>\n      <td>44</td>\n      <td>38</td>\n      <td>4</td>\n      <td>2020-04-25</td>\n      <td>0.0</td>\n    </tr>\n    <tr>\n      <th>1998</th>\n      <td>Oita Bank</td>\n      <td>Japan</td>\n      <td>Asia &amp; Pacific</td>\n      <td>Financials</td>\n      <td>Frankie Valencia</td>\n      <td>10</td>\n      <td>11</td>\n      <td>12</td>\n      <td>10</td>\n      <td>8</td>\n      <td>7</td>\n      <td>2020-07-28</td>\n      <td>0.0</td>\n    </tr>\n    <tr>\n      <th>1999</th>\n      <td>Tech Mahindra</td>\n      <td>India</td>\n      <td>Asia &amp; Pacific</td>\n      <td>Information Technology</td>\n      <td>Frankie Valencia</td>\n      <td>0</td>\n      <td>0</td>\n      <td>42</td>\n      <td>49</td>\n      <td>43</td>\n      <td>11</td>\n      <td>2020-11-17</td>\n      <td>NaN</td>\n    </tr>\n  </tbody>\n</table>\n<p>2000 rows × 13 columns</p>\n</div>"
     },
     "execution_count": 2,
     "metadata": {},
     "output_type": "execute_result"
    }
   ],
   "source": [
    "df = pd.read_csv(\"https://www.dropbox.com/s/cat8vm6lchlu5tp/data.csv?dl=1\", index_col=0)\n",
    "df"
   ]
  },
  {
   "cell_type": "code",
   "execution_count": 3,
   "metadata": {
    "pycharm": {
     "name": "#%%\n"
    }
   },
   "outputs": [
    {
     "name": "stdout",
     "output_type": "stream",
     "text": [
      "<class 'pandas.core.frame.DataFrame'>\n",
      "Int64Index: 2000 entries, 0 to 1999\n",
      "Data columns (total 13 columns):\n",
      " #   Column        Non-Null Count  Dtype  \n",
      "---  ------        --------------  -----  \n",
      " 0   Company       2000 non-null   object \n",
      " 1   Country       2000 non-null   object \n",
      " 2   Region        2000 non-null   object \n",
      " 3   Sector        1803 non-null   object \n",
      " 4   Manager       2000 non-null   object \n",
      " 5   y2015         2000 non-null   int64  \n",
      " 6   y2016         2000 non-null   int64  \n",
      " 7   y2017         2000 non-null   int64  \n",
      " 8   y2018         2000 non-null   int64  \n",
      " 9   y2019         2000 non-null   int64  \n",
      " 10  RenewalMonth  2000 non-null   int64  \n",
      " 11  RenewalDate   2000 non-null   object \n",
      " 12  Churn         1487 non-null   float64\n",
      "dtypes: float64(1), int64(6), object(6)\n",
      "memory usage: 218.8+ KB\n"
     ]
    }
   ],
   "source": [
    "df.info()"
   ]
  },
  {
   "cell_type": "code",
   "execution_count": 4,
   "metadata": {
    "pycharm": {
     "name": "#%%\n"
    }
   },
   "outputs": [
    {
     "data": {
      "text/plain": "             y2015        y2016        y2017        y2018       y2019  \\\ncount  2000.000000  2000.000000  2000.000000  2000.000000  2000.00000   \nmean    103.134000   165.492500   206.979500   228.077000   264.29550   \nstd     288.383992   367.342091   406.285524   432.801414   489.25395   \nmin       0.000000     0.000000     0.000000     0.000000     0.00000   \n25%       0.000000     0.000000    13.000000    31.000000    55.00000   \n50%       0.000000    45.000000    88.000000   104.000000   131.00000   \n75%      87.000000   165.000000   213.250000   230.000000   261.00000   \nmax    3485.000000  4827.000000  5682.000000  6641.000000  9041.00000   \n\n       RenewalMonth        Churn  \ncount   2000.000000  1487.000000  \nmean       6.568000     0.178884  \nstd        3.446493     0.383384  \nmin        1.000000     0.000000  \n25%        4.000000     0.000000  \n50%        7.000000     0.000000  \n75%       10.000000     0.000000  \nmax       12.000000     1.000000  ",
      "text/html": "<div>\n<style scoped>\n    .dataframe tbody tr th:only-of-type {\n        vertical-align: middle;\n    }\n\n    .dataframe tbody tr th {\n        vertical-align: top;\n    }\n\n    .dataframe thead th {\n        text-align: right;\n    }\n</style>\n<table border=\"1\" class=\"dataframe\">\n  <thead>\n    <tr style=\"text-align: right;\">\n      <th></th>\n      <th>y2015</th>\n      <th>y2016</th>\n      <th>y2017</th>\n      <th>y2018</th>\n      <th>y2019</th>\n      <th>RenewalMonth</th>\n      <th>Churn</th>\n    </tr>\n  </thead>\n  <tbody>\n    <tr>\n      <th>count</th>\n      <td>2000.000000</td>\n      <td>2000.000000</td>\n      <td>2000.000000</td>\n      <td>2000.000000</td>\n      <td>2000.00000</td>\n      <td>2000.000000</td>\n      <td>1487.000000</td>\n    </tr>\n    <tr>\n      <th>mean</th>\n      <td>103.134000</td>\n      <td>165.492500</td>\n      <td>206.979500</td>\n      <td>228.077000</td>\n      <td>264.29550</td>\n      <td>6.568000</td>\n      <td>0.178884</td>\n    </tr>\n    <tr>\n      <th>std</th>\n      <td>288.383992</td>\n      <td>367.342091</td>\n      <td>406.285524</td>\n      <td>432.801414</td>\n      <td>489.25395</td>\n      <td>3.446493</td>\n      <td>0.383384</td>\n    </tr>\n    <tr>\n      <th>min</th>\n      <td>0.000000</td>\n      <td>0.000000</td>\n      <td>0.000000</td>\n      <td>0.000000</td>\n      <td>0.00000</td>\n      <td>1.000000</td>\n      <td>0.000000</td>\n    </tr>\n    <tr>\n      <th>25%</th>\n      <td>0.000000</td>\n      <td>0.000000</td>\n      <td>13.000000</td>\n      <td>31.000000</td>\n      <td>55.00000</td>\n      <td>4.000000</td>\n      <td>0.000000</td>\n    </tr>\n    <tr>\n      <th>50%</th>\n      <td>0.000000</td>\n      <td>45.000000</td>\n      <td>88.000000</td>\n      <td>104.000000</td>\n      <td>131.00000</td>\n      <td>7.000000</td>\n      <td>0.000000</td>\n    </tr>\n    <tr>\n      <th>75%</th>\n      <td>87.000000</td>\n      <td>165.000000</td>\n      <td>213.250000</td>\n      <td>230.000000</td>\n      <td>261.00000</td>\n      <td>10.000000</td>\n      <td>0.000000</td>\n    </tr>\n    <tr>\n      <th>max</th>\n      <td>3485.000000</td>\n      <td>4827.000000</td>\n      <td>5682.000000</td>\n      <td>6641.000000</td>\n      <td>9041.00000</td>\n      <td>12.000000</td>\n      <td>1.000000</td>\n    </tr>\n  </tbody>\n</table>\n</div>"
     },
     "execution_count": 4,
     "metadata": {},
     "output_type": "execute_result"
    }
   ],
   "source": [
    "df.describe()"
   ]
  },
  {
   "cell_type": "code",
   "execution_count": 5,
   "metadata": {
    "pycharm": {
     "name": "#%%\n"
    }
   },
   "outputs": [],
   "source": [
    "train_df_1 = df[df[\"Churn\"].notnull()]"
   ]
  },
  {
   "cell_type": "code",
   "execution_count": 6,
   "metadata": {
    "pycharm": {
     "name": "#%%\n"
    }
   },
   "outputs": [
    {
     "data": {
      "text/plain": "Country\nCzech Republic          1.000000\nPeru                    1.000000\nNigeria                 0.500000\nMexico                  0.444444\nColombia                0.400000\nPhilippines             0.400000\nIreland                 0.357143\nQatar                   0.333333\nIndonesia               0.333333\nBermuda                 0.333333\nPortugal                0.333333\nBrazil                  0.312500\nThailand                0.307692\nNorway                  0.285714\nFinland                 0.285714\nHong Kong               0.270833\nChina                   0.266667\nChile                   0.250000\nGreece                  0.250000\nSouth Korea             0.232558\nTaiwan                  0.225806\nMalaysia                0.222222\nUnited States           0.194064\nFrance                  0.186047\nSingapore               0.181818\nGermany                 0.177778\nItaly                   0.166667\nUnited Kingdom          0.161290\nAustralia               0.147059\nRussia                  0.142857\nCanada                  0.135135\nSouth Africa            0.125000\nNetherlands             0.105263\nDenmark                 0.100000\nIndia                   0.097561\nSweden                  0.095238\nUnited Arab Emirates    0.090909\nJapan                   0.082353\nSwitzerland             0.066667\nSpain                   0.055556\nBahrain                 0.000000\nBelgium                 0.000000\nAustria                 0.000000\nVietnam                 0.000000\nLebanon                 0.000000\nEgypt                   0.000000\nHungary                 0.000000\nIsrael                  0.000000\nJordan                  0.000000\nKuwait                  0.000000\nLuxembourg              0.000000\nMorocco                 0.000000\nOman                    0.000000\nPoland                  0.000000\nPuerto Rico             0.000000\nSaudi Arabia            0.000000\nTurkey                  0.000000\nArgentina               0.000000\nName: Churn, dtype: float64"
     },
     "execution_count": 6,
     "metadata": {},
     "output_type": "execute_result"
    }
   ],
   "source": [
    "train_df_1.groupby([\"Country\"])[\"Churn\"].mean().sort_values(ascending=False)"
   ]
  },
  {
   "cell_type": "code",
   "execution_count": 7,
   "metadata": {
    "pycharm": {
     "name": "#%%\n"
    }
   },
   "outputs": [
    {
     "data": {
      "text/plain": "                                        Company  Churn\nCountry     Sector                                    \nCanada      Information Technology            1    1.0\nGreece      Utilities                         1    1.0\nIndia       Industrials                       1    1.0\nSouth Korea Utilities                         1    1.0\nSweden      Information Technology            1    1.0\n...                                         ...    ...\nIsrael      Health Care                       1    0.0\n            Information Technology            1    0.0\nItaly       Financials                       10    0.0\n            Telecommunication Services        1    0.0\nVietnam     Financials                        2    0.0\n\n[264 rows x 2 columns]",
      "text/html": "<div>\n<style scoped>\n    .dataframe tbody tr th:only-of-type {\n        vertical-align: middle;\n    }\n\n    .dataframe tbody tr th {\n        vertical-align: top;\n    }\n\n    .dataframe thead th {\n        text-align: right;\n    }\n</style>\n<table border=\"1\" class=\"dataframe\">\n  <thead>\n    <tr style=\"text-align: right;\">\n      <th></th>\n      <th></th>\n      <th>Company</th>\n      <th>Churn</th>\n    </tr>\n    <tr>\n      <th>Country</th>\n      <th>Sector</th>\n      <th></th>\n      <th></th>\n    </tr>\n  </thead>\n  <tbody>\n    <tr>\n      <th>Canada</th>\n      <th>Information Technology</th>\n      <td>1</td>\n      <td>1.0</td>\n    </tr>\n    <tr>\n      <th>Greece</th>\n      <th>Utilities</th>\n      <td>1</td>\n      <td>1.0</td>\n    </tr>\n    <tr>\n      <th>India</th>\n      <th>Industrials</th>\n      <td>1</td>\n      <td>1.0</td>\n    </tr>\n    <tr>\n      <th>South Korea</th>\n      <th>Utilities</th>\n      <td>1</td>\n      <td>1.0</td>\n    </tr>\n    <tr>\n      <th>Sweden</th>\n      <th>Information Technology</th>\n      <td>1</td>\n      <td>1.0</td>\n    </tr>\n    <tr>\n      <th>...</th>\n      <th>...</th>\n      <td>...</td>\n      <td>...</td>\n    </tr>\n    <tr>\n      <th rowspan=\"2\" valign=\"top\">Israel</th>\n      <th>Health Care</th>\n      <td>1</td>\n      <td>0.0</td>\n    </tr>\n    <tr>\n      <th>Information Technology</th>\n      <td>1</td>\n      <td>0.0</td>\n    </tr>\n    <tr>\n      <th rowspan=\"2\" valign=\"top\">Italy</th>\n      <th>Financials</th>\n      <td>10</td>\n      <td>0.0</td>\n    </tr>\n    <tr>\n      <th>Telecommunication Services</th>\n      <td>1</td>\n      <td>0.0</td>\n    </tr>\n    <tr>\n      <th>Vietnam</th>\n      <th>Financials</th>\n      <td>2</td>\n      <td>0.0</td>\n    </tr>\n  </tbody>\n</table>\n<p>264 rows × 2 columns</p>\n</div>"
     },
     "execution_count": 7,
     "metadata": {},
     "output_type": "execute_result"
    }
   ],
   "source": [
    "train_df_1.groupby([\"Country\", \"Sector\"]).agg({'Company': 'size', 'Churn': 'mean'}).sort_values(ascending=False,\n",
    "                                                                                                by='Churn')"
   ]
  },
  {
   "cell_type": "markdown",
   "metadata": {},
   "source": [
    "### Feature engineering"
   ]
  },
  {
   "cell_type": "code",
   "execution_count": 8,
   "metadata": {
    "pycharm": {
     "name": "#%%\n"
    }
   },
   "outputs": [
    {
     "data": {
      "text/plain": "                      Company        Country          Region  \\\n0                        ICBC          China  Asia & Pacific   \n1     China Construction Bank          China  Asia & Pacific   \n2          Berkshire Hathaway  United States   North America   \n3              JPMorgan Chase  United States   North America   \n4                 Wells Fargo  United States   North America   \n...                       ...            ...             ...   \n1994                  Aurubis        Germany          Europe   \n1995                BEKB-BCBE    Switzerland          Europe   \n1996        Fastighets Balder         Sweden          Europe   \n1997      Akamai Technologies  United States   North America   \n1998                Oita Bank          Japan  Asia & Pacific   \n\n                      Sector           Manager  y2015  y2016  y2017  y2018  \\\n0                 Financials  Edgar Livingston      0      0      0   1651   \n1                 Financials        Shawn Kirk      0   1774   1609   1624   \n2                 Financials     Alonzo Pierce      0   3286   3405   4082   \n3                 Financials   Abram Gallagher      0      0   1671   1535   \n4                 Financials     Eugene Graves      0   1362   1209   1203   \n...                      ...               ...    ...    ...    ...    ...   \n1994               Materials        Nell Gibbs    112    104    104    109   \n1995              Financials   Darrell Frazier      8      7      8      7   \n1996               Materials      Esther Knapp      0      0      0      8   \n1997  Information Technology     Eugene Graves      0      0     41     44   \n1998              Financials  Frankie Valencia     10     11     12     10   \n\n      y2019  RenewalMonth RenewalDate  Churn  Years  \n0      1423             4  2020-04-07    0.0      2  \n1      1876             1  2020-01-21    0.0      4  \n2      4281             5  2020-05-01    0.0      4  \n3      1806             8  2020-08-12    0.0      3  \n4      1017             1  2020-01-13    0.0      4  \n...     ...           ...         ...    ...    ...  \n1994    127             8  2020-08-24    0.0      5  \n1995      6             2  2020-02-15    1.0      5  \n1996      8             1  2020-01-24    0.0      2  \n1997     38             4  2020-04-25    0.0      3  \n1998      8             7  2020-07-28    0.0      5  \n\n[1487 rows x 14 columns]",
      "text/html": "<div>\n<style scoped>\n    .dataframe tbody tr th:only-of-type {\n        vertical-align: middle;\n    }\n\n    .dataframe tbody tr th {\n        vertical-align: top;\n    }\n\n    .dataframe thead th {\n        text-align: right;\n    }\n</style>\n<table border=\"1\" class=\"dataframe\">\n  <thead>\n    <tr style=\"text-align: right;\">\n      <th></th>\n      <th>Company</th>\n      <th>Country</th>\n      <th>Region</th>\n      <th>Sector</th>\n      <th>Manager</th>\n      <th>y2015</th>\n      <th>y2016</th>\n      <th>y2017</th>\n      <th>y2018</th>\n      <th>y2019</th>\n      <th>RenewalMonth</th>\n      <th>RenewalDate</th>\n      <th>Churn</th>\n      <th>Years</th>\n    </tr>\n  </thead>\n  <tbody>\n    <tr>\n      <th>0</th>\n      <td>ICBC</td>\n      <td>China</td>\n      <td>Asia &amp; Pacific</td>\n      <td>Financials</td>\n      <td>Edgar Livingston</td>\n      <td>0</td>\n      <td>0</td>\n      <td>0</td>\n      <td>1651</td>\n      <td>1423</td>\n      <td>4</td>\n      <td>2020-04-07</td>\n      <td>0.0</td>\n      <td>2</td>\n    </tr>\n    <tr>\n      <th>1</th>\n      <td>China Construction Bank</td>\n      <td>China</td>\n      <td>Asia &amp; Pacific</td>\n      <td>Financials</td>\n      <td>Shawn Kirk</td>\n      <td>0</td>\n      <td>1774</td>\n      <td>1609</td>\n      <td>1624</td>\n      <td>1876</td>\n      <td>1</td>\n      <td>2020-01-21</td>\n      <td>0.0</td>\n      <td>4</td>\n    </tr>\n    <tr>\n      <th>2</th>\n      <td>Berkshire Hathaway</td>\n      <td>United States</td>\n      <td>North America</td>\n      <td>Financials</td>\n      <td>Alonzo Pierce</td>\n      <td>0</td>\n      <td>3286</td>\n      <td>3405</td>\n      <td>4082</td>\n      <td>4281</td>\n      <td>5</td>\n      <td>2020-05-01</td>\n      <td>0.0</td>\n      <td>4</td>\n    </tr>\n    <tr>\n      <th>3</th>\n      <td>JPMorgan Chase</td>\n      <td>United States</td>\n      <td>North America</td>\n      <td>Financials</td>\n      <td>Abram Gallagher</td>\n      <td>0</td>\n      <td>0</td>\n      <td>1671</td>\n      <td>1535</td>\n      <td>1806</td>\n      <td>8</td>\n      <td>2020-08-12</td>\n      <td>0.0</td>\n      <td>3</td>\n    </tr>\n    <tr>\n      <th>4</th>\n      <td>Wells Fargo</td>\n      <td>United States</td>\n      <td>North America</td>\n      <td>Financials</td>\n      <td>Eugene Graves</td>\n      <td>0</td>\n      <td>1362</td>\n      <td>1209</td>\n      <td>1203</td>\n      <td>1017</td>\n      <td>1</td>\n      <td>2020-01-13</td>\n      <td>0.0</td>\n      <td>4</td>\n    </tr>\n    <tr>\n      <th>...</th>\n      <td>...</td>\n      <td>...</td>\n      <td>...</td>\n      <td>...</td>\n      <td>...</td>\n      <td>...</td>\n      <td>...</td>\n      <td>...</td>\n      <td>...</td>\n      <td>...</td>\n      <td>...</td>\n      <td>...</td>\n      <td>...</td>\n      <td>...</td>\n    </tr>\n    <tr>\n      <th>1994</th>\n      <td>Aurubis</td>\n      <td>Germany</td>\n      <td>Europe</td>\n      <td>Materials</td>\n      <td>Nell Gibbs</td>\n      <td>112</td>\n      <td>104</td>\n      <td>104</td>\n      <td>109</td>\n      <td>127</td>\n      <td>8</td>\n      <td>2020-08-24</td>\n      <td>0.0</td>\n      <td>5</td>\n    </tr>\n    <tr>\n      <th>1995</th>\n      <td>BEKB-BCBE</td>\n      <td>Switzerland</td>\n      <td>Europe</td>\n      <td>Financials</td>\n      <td>Darrell Frazier</td>\n      <td>8</td>\n      <td>7</td>\n      <td>8</td>\n      <td>7</td>\n      <td>6</td>\n      <td>2</td>\n      <td>2020-02-15</td>\n      <td>1.0</td>\n      <td>5</td>\n    </tr>\n    <tr>\n      <th>1996</th>\n      <td>Fastighets Balder</td>\n      <td>Sweden</td>\n      <td>Europe</td>\n      <td>Materials</td>\n      <td>Esther Knapp</td>\n      <td>0</td>\n      <td>0</td>\n      <td>0</td>\n      <td>8</td>\n      <td>8</td>\n      <td>1</td>\n      <td>2020-01-24</td>\n      <td>0.0</td>\n      <td>2</td>\n    </tr>\n    <tr>\n      <th>1997</th>\n      <td>Akamai Technologies</td>\n      <td>United States</td>\n      <td>North America</td>\n      <td>Information Technology</td>\n      <td>Eugene Graves</td>\n      <td>0</td>\n      <td>0</td>\n      <td>41</td>\n      <td>44</td>\n      <td>38</td>\n      <td>4</td>\n      <td>2020-04-25</td>\n      <td>0.0</td>\n      <td>3</td>\n    </tr>\n    <tr>\n      <th>1998</th>\n      <td>Oita Bank</td>\n      <td>Japan</td>\n      <td>Asia &amp; Pacific</td>\n      <td>Financials</td>\n      <td>Frankie Valencia</td>\n      <td>10</td>\n      <td>11</td>\n      <td>12</td>\n      <td>10</td>\n      <td>8</td>\n      <td>7</td>\n      <td>2020-07-28</td>\n      <td>0.0</td>\n      <td>5</td>\n    </tr>\n  </tbody>\n</table>\n<p>1487 rows × 14 columns</p>\n</div>"
     },
     "execution_count": 8,
     "metadata": {},
     "output_type": "execute_result"
    }
   ],
   "source": [
    "def n_years(row):\n",
    "    l = [row[\"y2019\"], row[\"y2018\"], row[\"y2017\"], row[\"y2016\"], row[\"y2015\"]]\n",
    "    return len([x for x in l if x != 0])\n",
    "\n",
    "\n",
    "train_df_2 = train_df_1.copy()\n",
    "train_df_2[\"Years\"] = train_df_2.apply(n_years, axis=1)\n",
    "train_df_2"
   ]
  },
  {
   "cell_type": "code",
   "execution_count": 9,
   "metadata": {
    "pycharm": {
     "name": "#%%\n"
    }
   },
   "outputs": [
    {
     "data": {
      "text/plain": "Years\n1    0.411765\n2    0.296875\n3    0.213675\n4    0.133739\n5    0.084459\nName: Churn, dtype: float64"
     },
     "execution_count": 9,
     "metadata": {},
     "output_type": "execute_result"
    }
   ],
   "source": [
    "train_df_2.groupby([\"Years\"])[\"Churn\"].mean().sort_values(ascending=False)"
   ]
  },
  {
   "cell_type": "code",
   "execution_count": 10,
   "metadata": {
    "pycharm": {
     "name": "#%%\n"
    }
   },
   "outputs": [
    {
     "data": {
      "text/plain": "                                  Company     Churn\nYears Sector                                       \n1     Energy                            7  0.857143\n      Information Technology           18  0.666667\n      Consumer Discretionary           20  0.600000\n2     Telecommunication Services        5  0.600000\n1     Telecommunication Services        7  0.571429\n      Industrials                      18  0.555556\n      Utilities                        12  0.500000\n2     Consumer Discretionary           19  0.473684\n      Energy                           10  0.400000\n1     Consumer Staples                 10  0.400000\n2     Industrials                      15  0.400000\n3     Industrials                      30  0.366667\n2     Consumer Staples                  9  0.333333\n      Health Care                       6  0.333333\n1     Materials                        15  0.333333\n3     Information Technology           21  0.333333\n4     Telecommunication Services       10  0.300000\n2     Materials                        14  0.285714\n1     Health Care                      14  0.285714\n3     Utilities                        14  0.285714\n4     Industrials                      36  0.277778\n5     Information Technology           26  0.269231\n3     Materials                        24  0.250000\n4     Information Technology           20  0.250000\n3     Consumer Discretionary           31  0.225806\n      Consumer Staples                  5  0.200000\n      Telecommunication Services        6  0.166667\n1     Financials                       67  0.164179\n5     Materials                        45  0.133333\n4     Consumer Discretionary           31  0.129032\n5     Energy                           32  0.125000\n4     Utilities                        16  0.125000\n3     Energy                           17  0.117647\n5     Consumer Discretionary           82  0.109756\n      Consumer Staples                 37  0.108108\n3     Financials                       57  0.105263\n2     Financials                       30  0.100000\n4     Financials                      116  0.094828\n      Consumer Staples                 13  0.076923\n      Health Care                      13  0.076923\n5     Telecommunication Services       14  0.071429\n      Industrials                      63  0.063492\n      Utilities                        24  0.041667\n4     Materials                        26  0.038462\n5     Financials                      168  0.035714\n      Health Care                      31  0.032258\n4     Energy                           14  0.000000\n3     Health Care                       9  0.000000\n2     Utilities                         7  0.000000\n      Information Technology            6  0.000000",
      "text/html": "<div>\n<style scoped>\n    .dataframe tbody tr th:only-of-type {\n        vertical-align: middle;\n    }\n\n    .dataframe tbody tr th {\n        vertical-align: top;\n    }\n\n    .dataframe thead th {\n        text-align: right;\n    }\n</style>\n<table border=\"1\" class=\"dataframe\">\n  <thead>\n    <tr style=\"text-align: right;\">\n      <th></th>\n      <th></th>\n      <th>Company</th>\n      <th>Churn</th>\n    </tr>\n    <tr>\n      <th>Years</th>\n      <th>Sector</th>\n      <th></th>\n      <th></th>\n    </tr>\n  </thead>\n  <tbody>\n    <tr>\n      <th rowspan=\"3\" valign=\"top\">1</th>\n      <th>Energy</th>\n      <td>7</td>\n      <td>0.857143</td>\n    </tr>\n    <tr>\n      <th>Information Technology</th>\n      <td>18</td>\n      <td>0.666667</td>\n    </tr>\n    <tr>\n      <th>Consumer Discretionary</th>\n      <td>20</td>\n      <td>0.600000</td>\n    </tr>\n    <tr>\n      <th>2</th>\n      <th>Telecommunication Services</th>\n      <td>5</td>\n      <td>0.600000</td>\n    </tr>\n    <tr>\n      <th rowspan=\"3\" valign=\"top\">1</th>\n      <th>Telecommunication Services</th>\n      <td>7</td>\n      <td>0.571429</td>\n    </tr>\n    <tr>\n      <th>Industrials</th>\n      <td>18</td>\n      <td>0.555556</td>\n    </tr>\n    <tr>\n      <th>Utilities</th>\n      <td>12</td>\n      <td>0.500000</td>\n    </tr>\n    <tr>\n      <th rowspan=\"2\" valign=\"top\">2</th>\n      <th>Consumer Discretionary</th>\n      <td>19</td>\n      <td>0.473684</td>\n    </tr>\n    <tr>\n      <th>Energy</th>\n      <td>10</td>\n      <td>0.400000</td>\n    </tr>\n    <tr>\n      <th>1</th>\n      <th>Consumer Staples</th>\n      <td>10</td>\n      <td>0.400000</td>\n    </tr>\n    <tr>\n      <th>2</th>\n      <th>Industrials</th>\n      <td>15</td>\n      <td>0.400000</td>\n    </tr>\n    <tr>\n      <th>3</th>\n      <th>Industrials</th>\n      <td>30</td>\n      <td>0.366667</td>\n    </tr>\n    <tr>\n      <th rowspan=\"2\" valign=\"top\">2</th>\n      <th>Consumer Staples</th>\n      <td>9</td>\n      <td>0.333333</td>\n    </tr>\n    <tr>\n      <th>Health Care</th>\n      <td>6</td>\n      <td>0.333333</td>\n    </tr>\n    <tr>\n      <th>1</th>\n      <th>Materials</th>\n      <td>15</td>\n      <td>0.333333</td>\n    </tr>\n    <tr>\n      <th>3</th>\n      <th>Information Technology</th>\n      <td>21</td>\n      <td>0.333333</td>\n    </tr>\n    <tr>\n      <th>4</th>\n      <th>Telecommunication Services</th>\n      <td>10</td>\n      <td>0.300000</td>\n    </tr>\n    <tr>\n      <th>2</th>\n      <th>Materials</th>\n      <td>14</td>\n      <td>0.285714</td>\n    </tr>\n    <tr>\n      <th>1</th>\n      <th>Health Care</th>\n      <td>14</td>\n      <td>0.285714</td>\n    </tr>\n    <tr>\n      <th>3</th>\n      <th>Utilities</th>\n      <td>14</td>\n      <td>0.285714</td>\n    </tr>\n    <tr>\n      <th>4</th>\n      <th>Industrials</th>\n      <td>36</td>\n      <td>0.277778</td>\n    </tr>\n    <tr>\n      <th>5</th>\n      <th>Information Technology</th>\n      <td>26</td>\n      <td>0.269231</td>\n    </tr>\n    <tr>\n      <th>3</th>\n      <th>Materials</th>\n      <td>24</td>\n      <td>0.250000</td>\n    </tr>\n    <tr>\n      <th>4</th>\n      <th>Information Technology</th>\n      <td>20</td>\n      <td>0.250000</td>\n    </tr>\n    <tr>\n      <th rowspan=\"3\" valign=\"top\">3</th>\n      <th>Consumer Discretionary</th>\n      <td>31</td>\n      <td>0.225806</td>\n    </tr>\n    <tr>\n      <th>Consumer Staples</th>\n      <td>5</td>\n      <td>0.200000</td>\n    </tr>\n    <tr>\n      <th>Telecommunication Services</th>\n      <td>6</td>\n      <td>0.166667</td>\n    </tr>\n    <tr>\n      <th>1</th>\n      <th>Financials</th>\n      <td>67</td>\n      <td>0.164179</td>\n    </tr>\n    <tr>\n      <th>5</th>\n      <th>Materials</th>\n      <td>45</td>\n      <td>0.133333</td>\n    </tr>\n    <tr>\n      <th>4</th>\n      <th>Consumer Discretionary</th>\n      <td>31</td>\n      <td>0.129032</td>\n    </tr>\n    <tr>\n      <th>5</th>\n      <th>Energy</th>\n      <td>32</td>\n      <td>0.125000</td>\n    </tr>\n    <tr>\n      <th>4</th>\n      <th>Utilities</th>\n      <td>16</td>\n      <td>0.125000</td>\n    </tr>\n    <tr>\n      <th>3</th>\n      <th>Energy</th>\n      <td>17</td>\n      <td>0.117647</td>\n    </tr>\n    <tr>\n      <th rowspan=\"2\" valign=\"top\">5</th>\n      <th>Consumer Discretionary</th>\n      <td>82</td>\n      <td>0.109756</td>\n    </tr>\n    <tr>\n      <th>Consumer Staples</th>\n      <td>37</td>\n      <td>0.108108</td>\n    </tr>\n    <tr>\n      <th>3</th>\n      <th>Financials</th>\n      <td>57</td>\n      <td>0.105263</td>\n    </tr>\n    <tr>\n      <th>2</th>\n      <th>Financials</th>\n      <td>30</td>\n      <td>0.100000</td>\n    </tr>\n    <tr>\n      <th rowspan=\"3\" valign=\"top\">4</th>\n      <th>Financials</th>\n      <td>116</td>\n      <td>0.094828</td>\n    </tr>\n    <tr>\n      <th>Consumer Staples</th>\n      <td>13</td>\n      <td>0.076923</td>\n    </tr>\n    <tr>\n      <th>Health Care</th>\n      <td>13</td>\n      <td>0.076923</td>\n    </tr>\n    <tr>\n      <th rowspan=\"3\" valign=\"top\">5</th>\n      <th>Telecommunication Services</th>\n      <td>14</td>\n      <td>0.071429</td>\n    </tr>\n    <tr>\n      <th>Industrials</th>\n      <td>63</td>\n      <td>0.063492</td>\n    </tr>\n    <tr>\n      <th>Utilities</th>\n      <td>24</td>\n      <td>0.041667</td>\n    </tr>\n    <tr>\n      <th>4</th>\n      <th>Materials</th>\n      <td>26</td>\n      <td>0.038462</td>\n    </tr>\n    <tr>\n      <th rowspan=\"2\" valign=\"top\">5</th>\n      <th>Financials</th>\n      <td>168</td>\n      <td>0.035714</td>\n    </tr>\n    <tr>\n      <th>Health Care</th>\n      <td>31</td>\n      <td>0.032258</td>\n    </tr>\n    <tr>\n      <th>4</th>\n      <th>Energy</th>\n      <td>14</td>\n      <td>0.000000</td>\n    </tr>\n    <tr>\n      <th>3</th>\n      <th>Health Care</th>\n      <td>9</td>\n      <td>0.000000</td>\n    </tr>\n    <tr>\n      <th rowspan=\"2\" valign=\"top\">2</th>\n      <th>Utilities</th>\n      <td>7</td>\n      <td>0.000000</td>\n    </tr>\n    <tr>\n      <th>Information Technology</th>\n      <td>6</td>\n      <td>0.000000</td>\n    </tr>\n  </tbody>\n</table>\n</div>"
     },
     "execution_count": 10,
     "metadata": {},
     "output_type": "execute_result"
    }
   ],
   "source": [
    "train_df_2.groupby([\"Years\", \"Sector\"]).agg({'Company': 'size', 'Churn': 'mean'}).sort_values(ascending=False,\n",
    "                                                                                              by='Churn')"
   ]
  },
  {
   "cell_type": "code",
   "execution_count": 11,
   "metadata": {
    "pycharm": {
     "name": "#%%\n"
    }
   },
   "outputs": [
    {
     "data": {
      "text/plain": "            Country                  Sector  y2015  y2016  y2017  y2018  \\\n0             China              Financials      0      0      0   1651   \n1             China              Financials      0   1774   1609   1624   \n2     United States              Financials      0   3286   3405   4082   \n3     United States              Financials      0      0   1671   1535   \n4     United States              Financials      0   1362   1209   1203   \n...             ...                     ...    ...    ...    ...    ...   \n1994        Germany               Materials    112    104    104    109   \n1995    Switzerland              Financials      8      7      8      7   \n1996         Sweden               Materials      0      0      0      8   \n1997  United States  Information Technology      0      0     41     44   \n1998          Japan              Financials     10     11     12     10   \n\n      y2019  Churn  \n0      1423    0.0  \n1      1876    0.0  \n2      4281    0.0  \n3      1806    0.0  \n4      1017    0.0  \n...     ...    ...  \n1994    127    0.0  \n1995      6    1.0  \n1996      8    0.0  \n1997     38    0.0  \n1998      8    0.0  \n\n[1487 rows x 8 columns]",
      "text/html": "<div>\n<style scoped>\n    .dataframe tbody tr th:only-of-type {\n        vertical-align: middle;\n    }\n\n    .dataframe tbody tr th {\n        vertical-align: top;\n    }\n\n    .dataframe thead th {\n        text-align: right;\n    }\n</style>\n<table border=\"1\" class=\"dataframe\">\n  <thead>\n    <tr style=\"text-align: right;\">\n      <th></th>\n      <th>Country</th>\n      <th>Sector</th>\n      <th>y2015</th>\n      <th>y2016</th>\n      <th>y2017</th>\n      <th>y2018</th>\n      <th>y2019</th>\n      <th>Churn</th>\n    </tr>\n  </thead>\n  <tbody>\n    <tr>\n      <th>0</th>\n      <td>China</td>\n      <td>Financials</td>\n      <td>0</td>\n      <td>0</td>\n      <td>0</td>\n      <td>1651</td>\n      <td>1423</td>\n      <td>0.0</td>\n    </tr>\n    <tr>\n      <th>1</th>\n      <td>China</td>\n      <td>Financials</td>\n      <td>0</td>\n      <td>1774</td>\n      <td>1609</td>\n      <td>1624</td>\n      <td>1876</td>\n      <td>0.0</td>\n    </tr>\n    <tr>\n      <th>2</th>\n      <td>United States</td>\n      <td>Financials</td>\n      <td>0</td>\n      <td>3286</td>\n      <td>3405</td>\n      <td>4082</td>\n      <td>4281</td>\n      <td>0.0</td>\n    </tr>\n    <tr>\n      <th>3</th>\n      <td>United States</td>\n      <td>Financials</td>\n      <td>0</td>\n      <td>0</td>\n      <td>1671</td>\n      <td>1535</td>\n      <td>1806</td>\n      <td>0.0</td>\n    </tr>\n    <tr>\n      <th>4</th>\n      <td>United States</td>\n      <td>Financials</td>\n      <td>0</td>\n      <td>1362</td>\n      <td>1209</td>\n      <td>1203</td>\n      <td>1017</td>\n      <td>0.0</td>\n    </tr>\n    <tr>\n      <th>...</th>\n      <td>...</td>\n      <td>...</td>\n      <td>...</td>\n      <td>...</td>\n      <td>...</td>\n      <td>...</td>\n      <td>...</td>\n      <td>...</td>\n    </tr>\n    <tr>\n      <th>1994</th>\n      <td>Germany</td>\n      <td>Materials</td>\n      <td>112</td>\n      <td>104</td>\n      <td>104</td>\n      <td>109</td>\n      <td>127</td>\n      <td>0.0</td>\n    </tr>\n    <tr>\n      <th>1995</th>\n      <td>Switzerland</td>\n      <td>Financials</td>\n      <td>8</td>\n      <td>7</td>\n      <td>8</td>\n      <td>7</td>\n      <td>6</td>\n      <td>1.0</td>\n    </tr>\n    <tr>\n      <th>1996</th>\n      <td>Sweden</td>\n      <td>Materials</td>\n      <td>0</td>\n      <td>0</td>\n      <td>0</td>\n      <td>8</td>\n      <td>8</td>\n      <td>0.0</td>\n    </tr>\n    <tr>\n      <th>1997</th>\n      <td>United States</td>\n      <td>Information Technology</td>\n      <td>0</td>\n      <td>0</td>\n      <td>41</td>\n      <td>44</td>\n      <td>38</td>\n      <td>0.0</td>\n    </tr>\n    <tr>\n      <th>1998</th>\n      <td>Japan</td>\n      <td>Financials</td>\n      <td>10</td>\n      <td>11</td>\n      <td>12</td>\n      <td>10</td>\n      <td>8</td>\n      <td>0.0</td>\n    </tr>\n  </tbody>\n</table>\n<p>1487 rows × 8 columns</p>\n</div>"
     },
     "execution_count": 11,
     "metadata": {},
     "output_type": "execute_result"
    }
   ],
   "source": [
    "train_df_2 = train_df_1.copy()\n",
    "train_df_2 = train_df_2.drop([\"Company\", \"Region\", \"Manager\", \"RenewalMonth\", \"RenewalDate\"], axis=1)\n",
    "train_df_2"
   ]
  },
  {
   "cell_type": "markdown",
   "metadata": {},
   "source": [
    "### Data normalization"
   ]
  },
  {
   "cell_type": "code",
   "execution_count": 170,
   "metadata": {
    "pycharm": {
     "name": "#%%\n"
    },
    "scrolled": false
   },
   "outputs": [
    {
     "data": {
      "text/html": [
       "<div>\n",
       "<style scoped>\n",
       "    .dataframe tbody tr th:only-of-type {\n",
       "        vertical-align: middle;\n",
       "    }\n",
       "\n",
       "    .dataframe tbody tr th {\n",
       "        vertical-align: top;\n",
       "    }\n",
       "\n",
       "    .dataframe thead th {\n",
       "        text-align: right;\n",
       "    }\n",
       "</style>\n",
       "<table border=\"1\" class=\"dataframe\">\n",
       "  <thead>\n",
       "    <tr style=\"text-align: right;\">\n",
       "      <th></th>\n",
       "      <th>y2015</th>\n",
       "      <th>y2016</th>\n",
       "      <th>y2017</th>\n",
       "      <th>y2018</th>\n",
       "      <th>y2019</th>\n",
       "      <th>Churn</th>\n",
       "      <th>China</th>\n",
       "      <th>United States</th>\n",
       "      <th>South Korea</th>\n",
       "      <th>Germany</th>\n",
       "      <th>...</th>\n",
       "      <th>Information Technology</th>\n",
       "      <th>Telecommunication Services</th>\n",
       "      <th>Energy</th>\n",
       "      <th>Industrials</th>\n",
       "      <th>Consumer Discretionary</th>\n",
       "      <th>Health Care</th>\n",
       "      <th>Consumer Staples</th>\n",
       "      <th>Materials</th>\n",
       "      <th>Utilities</th>\n",
       "      <th>NaN</th>\n",
       "    </tr>\n",
       "  </thead>\n",
       "  <tbody>\n",
       "    <tr>\n",
       "      <th>0</th>\n",
       "      <td>0.000000</td>\n",
       "      <td>0.000000</td>\n",
       "      <td>0.000000</td>\n",
       "      <td>0.248607</td>\n",
       "      <td>0.157394</td>\n",
       "      <td>0.0</td>\n",
       "      <td>1</td>\n",
       "      <td>0</td>\n",
       "      <td>0</td>\n",
       "      <td>0</td>\n",
       "      <td>...</td>\n",
       "      <td>0</td>\n",
       "      <td>0</td>\n",
       "      <td>0</td>\n",
       "      <td>0</td>\n",
       "      <td>0</td>\n",
       "      <td>0</td>\n",
       "      <td>0</td>\n",
       "      <td>0</td>\n",
       "      <td>0</td>\n",
       "      <td>0</td>\n",
       "    </tr>\n",
       "    <tr>\n",
       "      <th>1</th>\n",
       "      <td>0.000000</td>\n",
       "      <td>0.367516</td>\n",
       "      <td>0.283175</td>\n",
       "      <td>0.244541</td>\n",
       "      <td>0.207499</td>\n",
       "      <td>0.0</td>\n",
       "      <td>1</td>\n",
       "      <td>0</td>\n",
       "      <td>0</td>\n",
       "      <td>0</td>\n",
       "      <td>...</td>\n",
       "      <td>0</td>\n",
       "      <td>0</td>\n",
       "      <td>0</td>\n",
       "      <td>0</td>\n",
       "      <td>0</td>\n",
       "      <td>0</td>\n",
       "      <td>0</td>\n",
       "      <td>0</td>\n",
       "      <td>0</td>\n",
       "      <td>0</td>\n",
       "    </tr>\n",
       "    <tr>\n",
       "      <th>2</th>\n",
       "      <td>0.000000</td>\n",
       "      <td>0.680754</td>\n",
       "      <td>0.599261</td>\n",
       "      <td>0.614666</td>\n",
       "      <td>0.473510</td>\n",
       "      <td>0.0</td>\n",
       "      <td>0</td>\n",
       "      <td>1</td>\n",
       "      <td>0</td>\n",
       "      <td>0</td>\n",
       "      <td>...</td>\n",
       "      <td>0</td>\n",
       "      <td>0</td>\n",
       "      <td>0</td>\n",
       "      <td>0</td>\n",
       "      <td>0</td>\n",
       "      <td>0</td>\n",
       "      <td>0</td>\n",
       "      <td>0</td>\n",
       "      <td>0</td>\n",
       "      <td>0</td>\n",
       "    </tr>\n",
       "    <tr>\n",
       "      <th>3</th>\n",
       "      <td>0.000000</td>\n",
       "      <td>0.000000</td>\n",
       "      <td>0.294087</td>\n",
       "      <td>0.231140</td>\n",
       "      <td>0.199757</td>\n",
       "      <td>0.0</td>\n",
       "      <td>0</td>\n",
       "      <td>1</td>\n",
       "      <td>0</td>\n",
       "      <td>0</td>\n",
       "      <td>...</td>\n",
       "      <td>0</td>\n",
       "      <td>0</td>\n",
       "      <td>0</td>\n",
       "      <td>0</td>\n",
       "      <td>0</td>\n",
       "      <td>0</td>\n",
       "      <td>0</td>\n",
       "      <td>0</td>\n",
       "      <td>0</td>\n",
       "      <td>0</td>\n",
       "    </tr>\n",
       "    <tr>\n",
       "      <th>4</th>\n",
       "      <td>0.000000</td>\n",
       "      <td>0.282163</td>\n",
       "      <td>0.212777</td>\n",
       "      <td>0.181147</td>\n",
       "      <td>0.112488</td>\n",
       "      <td>0.0</td>\n",
       "      <td>0</td>\n",
       "      <td>1</td>\n",
       "      <td>0</td>\n",
       "      <td>0</td>\n",
       "      <td>...</td>\n",
       "      <td>0</td>\n",
       "      <td>0</td>\n",
       "      <td>0</td>\n",
       "      <td>0</td>\n",
       "      <td>0</td>\n",
       "      <td>0</td>\n",
       "      <td>0</td>\n",
       "      <td>0</td>\n",
       "      <td>0</td>\n",
       "      <td>0</td>\n",
       "    </tr>\n",
       "    <tr>\n",
       "      <th>...</th>\n",
       "      <td>...</td>\n",
       "      <td>...</td>\n",
       "      <td>...</td>\n",
       "      <td>...</td>\n",
       "      <td>...</td>\n",
       "      <td>...</td>\n",
       "      <td>...</td>\n",
       "      <td>...</td>\n",
       "      <td>...</td>\n",
       "      <td>...</td>\n",
       "      <td>...</td>\n",
       "      <td>...</td>\n",
       "      <td>...</td>\n",
       "      <td>...</td>\n",
       "      <td>...</td>\n",
       "      <td>...</td>\n",
       "      <td>...</td>\n",
       "      <td>...</td>\n",
       "      <td>...</td>\n",
       "      <td>...</td>\n",
       "      <td>...</td>\n",
       "    </tr>\n",
       "    <tr>\n",
       "      <th>1994</th>\n",
       "      <td>0.032138</td>\n",
       "      <td>0.021545</td>\n",
       "      <td>0.018303</td>\n",
       "      <td>0.016413</td>\n",
       "      <td>0.014047</td>\n",
       "      <td>0.0</td>\n",
       "      <td>0</td>\n",
       "      <td>0</td>\n",
       "      <td>0</td>\n",
       "      <td>1</td>\n",
       "      <td>...</td>\n",
       "      <td>0</td>\n",
       "      <td>0</td>\n",
       "      <td>0</td>\n",
       "      <td>0</td>\n",
       "      <td>0</td>\n",
       "      <td>0</td>\n",
       "      <td>0</td>\n",
       "      <td>1</td>\n",
       "      <td>0</td>\n",
       "      <td>0</td>\n",
       "    </tr>\n",
       "    <tr>\n",
       "      <th>1995</th>\n",
       "      <td>0.002296</td>\n",
       "      <td>0.001450</td>\n",
       "      <td>0.001408</td>\n",
       "      <td>0.001054</td>\n",
       "      <td>0.000664</td>\n",
       "      <td>1.0</td>\n",
       "      <td>0</td>\n",
       "      <td>0</td>\n",
       "      <td>0</td>\n",
       "      <td>0</td>\n",
       "      <td>...</td>\n",
       "      <td>0</td>\n",
       "      <td>0</td>\n",
       "      <td>0</td>\n",
       "      <td>0</td>\n",
       "      <td>0</td>\n",
       "      <td>0</td>\n",
       "      <td>0</td>\n",
       "      <td>0</td>\n",
       "      <td>0</td>\n",
       "      <td>0</td>\n",
       "    </tr>\n",
       "    <tr>\n",
       "      <th>1996</th>\n",
       "      <td>0.000000</td>\n",
       "      <td>0.000000</td>\n",
       "      <td>0.000000</td>\n",
       "      <td>0.001205</td>\n",
       "      <td>0.000885</td>\n",
       "      <td>0.0</td>\n",
       "      <td>0</td>\n",
       "      <td>0</td>\n",
       "      <td>0</td>\n",
       "      <td>0</td>\n",
       "      <td>...</td>\n",
       "      <td>0</td>\n",
       "      <td>0</td>\n",
       "      <td>0</td>\n",
       "      <td>0</td>\n",
       "      <td>0</td>\n",
       "      <td>0</td>\n",
       "      <td>0</td>\n",
       "      <td>1</td>\n",
       "      <td>0</td>\n",
       "      <td>0</td>\n",
       "    </tr>\n",
       "    <tr>\n",
       "      <th>1997</th>\n",
       "      <td>0.000000</td>\n",
       "      <td>0.000000</td>\n",
       "      <td>0.007216</td>\n",
       "      <td>0.006626</td>\n",
       "      <td>0.004203</td>\n",
       "      <td>0.0</td>\n",
       "      <td>0</td>\n",
       "      <td>1</td>\n",
       "      <td>0</td>\n",
       "      <td>0</td>\n",
       "      <td>...</td>\n",
       "      <td>1</td>\n",
       "      <td>0</td>\n",
       "      <td>0</td>\n",
       "      <td>0</td>\n",
       "      <td>0</td>\n",
       "      <td>0</td>\n",
       "      <td>0</td>\n",
       "      <td>0</td>\n",
       "      <td>0</td>\n",
       "      <td>0</td>\n",
       "    </tr>\n",
       "    <tr>\n",
       "      <th>1998</th>\n",
       "      <td>0.002869</td>\n",
       "      <td>0.002279</td>\n",
       "      <td>0.002112</td>\n",
       "      <td>0.001506</td>\n",
       "      <td>0.000885</td>\n",
       "      <td>0.0</td>\n",
       "      <td>0</td>\n",
       "      <td>0</td>\n",
       "      <td>0</td>\n",
       "      <td>0</td>\n",
       "      <td>...</td>\n",
       "      <td>0</td>\n",
       "      <td>0</td>\n",
       "      <td>0</td>\n",
       "      <td>0</td>\n",
       "      <td>0</td>\n",
       "      <td>0</td>\n",
       "      <td>0</td>\n",
       "      <td>0</td>\n",
       "      <td>0</td>\n",
       "      <td>0</td>\n",
       "    </tr>\n",
       "  </tbody>\n",
       "</table>\n",
       "<p>1487 rows × 75 columns</p>\n",
       "</div>"
      ],
      "text/plain": [
       "         y2015     y2016     y2017     y2018     y2019  Churn  China  \\\n",
       "0     0.000000  0.000000  0.000000  0.248607  0.157394    0.0      1   \n",
       "1     0.000000  0.367516  0.283175  0.244541  0.207499    0.0      1   \n",
       "2     0.000000  0.680754  0.599261  0.614666  0.473510    0.0      0   \n",
       "3     0.000000  0.000000  0.294087  0.231140  0.199757    0.0      0   \n",
       "4     0.000000  0.282163  0.212777  0.181147  0.112488    0.0      0   \n",
       "...        ...       ...       ...       ...       ...    ...    ...   \n",
       "1994  0.032138  0.021545  0.018303  0.016413  0.014047    0.0      0   \n",
       "1995  0.002296  0.001450  0.001408  0.001054  0.000664    1.0      0   \n",
       "1996  0.000000  0.000000  0.000000  0.001205  0.000885    0.0      0   \n",
       "1997  0.000000  0.000000  0.007216  0.006626  0.004203    0.0      0   \n",
       "1998  0.002869  0.002279  0.002112  0.001506  0.000885    0.0      0   \n",
       "\n",
       "      United States  South Korea  Germany  ...  Information Technology  \\\n",
       "0                 0            0        0  ...                       0   \n",
       "1                 0            0        0  ...                       0   \n",
       "2                 1            0        0  ...                       0   \n",
       "3                 1            0        0  ...                       0   \n",
       "4                 1            0        0  ...                       0   \n",
       "...             ...          ...      ...  ...                     ...   \n",
       "1994              0            0        1  ...                       0   \n",
       "1995              0            0        0  ...                       0   \n",
       "1996              0            0        0  ...                       0   \n",
       "1997              1            0        0  ...                       1   \n",
       "1998              0            0        0  ...                       0   \n",
       "\n",
       "      Telecommunication Services  Energy  Industrials  Consumer Discretionary  \\\n",
       "0                              0       0            0                       0   \n",
       "1                              0       0            0                       0   \n",
       "2                              0       0            0                       0   \n",
       "3                              0       0            0                       0   \n",
       "4                              0       0            0                       0   \n",
       "...                          ...     ...          ...                     ...   \n",
       "1994                           0       0            0                       0   \n",
       "1995                           0       0            0                       0   \n",
       "1996                           0       0            0                       0   \n",
       "1997                           0       0            0                       0   \n",
       "1998                           0       0            0                       0   \n",
       "\n",
       "      Health Care  Consumer Staples  Materials  Utilities  NaN  \n",
       "0               0                 0          0          0    0  \n",
       "1               0                 0          0          0    0  \n",
       "2               0                 0          0          0    0  \n",
       "3               0                 0          0          0    0  \n",
       "4               0                 0          0          0    0  \n",
       "...           ...               ...        ...        ...  ...  \n",
       "1994            0                 0          1          0    0  \n",
       "1995            0                 0          0          0    0  \n",
       "1996            0                 0          1          0    0  \n",
       "1997            0                 0          0          0    0  \n",
       "1998            0                 0          0          0    0  \n",
       "\n",
       "[1487 rows x 75 columns]"
      ]
     },
     "execution_count": 170,
     "metadata": {},
     "output_type": "execute_result"
    }
   ],
   "source": [
    "train_df = train_df_2.copy()\n",
    "for col in [\"y2015\", \"y2016\", \"y2017\", \"y2018\", \"y2019\"]:\n",
    "    train_df[col] = train_df[col] / train_df[col].max()\n",
    "\n",
    "for c in train_df_2[\"Country\"].unique():\n",
    "    train_df[c] = train_df[\"Country\"].apply(lambda x: 1 if x == c else 0)\n",
    "\n",
    "for s in train_df_2[\"Sector\"].unique():\n",
    "    if s:\n",
    "        train_df[s] = train_df[\"Sector\"].apply(lambda x: 1 if x == s else 0)\n",
    "\n",
    "train_df = train_df.drop([\"Country\", \"Sector\"], axis=1)\n",
    "\n",
    "train_df"
   ]
  },
  {
   "cell_type": "markdown",
   "metadata": {},
   "source": [
    "### Training model"
   ]
  },
  {
   "cell_type": "code",
   "execution_count": 198,
   "metadata": {},
   "outputs": [],
   "source": [
    "from sklearn.model_selection import train_test_split"
   ]
  },
  {
   "cell_type": "code",
   "execution_count": 199,
   "metadata": {
    "pycharm": {
     "name": "#%%\n"
    }
   },
   "outputs": [
    {
     "name": "stdout",
     "output_type": "stream",
     "text": [
      "<class 'pandas.core.frame.DataFrame'>\n",
      "Int64Index: 1040 entries, 1759 to 841\n",
      "Data columns (total 74 columns):\n",
      " #   Column                      Non-Null Count  Dtype  \n",
      "---  ------                      --------------  -----  \n",
      " 0   y2015                       1040 non-null   float64\n",
      " 1   y2016                       1040 non-null   float64\n",
      " 2   y2017                       1040 non-null   float64\n",
      " 3   y2018                       1040 non-null   float64\n",
      " 4   y2019                       1040 non-null   float64\n",
      " 5   China                       1040 non-null   int64  \n",
      " 6   United States               1040 non-null   int64  \n",
      " 7   South Korea                 1040 non-null   int64  \n",
      " 8   Germany                     1040 non-null   int64  \n",
      " 9   Hong Kong                   1040 non-null   int64  \n",
      " 10  France                      1040 non-null   int64  \n",
      " 11  Japan                       1040 non-null   int64  \n",
      " 12  Spain                       1040 non-null   int64  \n",
      " 13  Switzerland                 1040 non-null   int64  \n",
      " 14  Brazil                      1040 non-null   int64  \n",
      " 15  Russia                      1040 non-null   int64  \n",
      " 16  Canada                      1040 non-null   int64  \n",
      " 17  United Kingdom              1040 non-null   int64  \n",
      " 18  Netherlands                 1040 non-null   int64  \n",
      " 19  Australia                   1040 non-null   int64  \n",
      " 20  Taiwan                      1040 non-null   int64  \n",
      " 21  Italy                       1040 non-null   int64  \n",
      " 22  Ireland                     1040 non-null   int64  \n",
      " 23  Saudi Arabia                1040 non-null   int64  \n",
      " 24  Sweden                      1040 non-null   int64  \n",
      " 25  Thailand                    1040 non-null   int64  \n",
      " 26  Denmark                     1040 non-null   int64  \n",
      " 27  India                       1040 non-null   int64  \n",
      " 28  Singapore                   1040 non-null   int64  \n",
      " 29  Belgium                     1040 non-null   int64  \n",
      " 30  United Arab Emirates        1040 non-null   int64  \n",
      " 31  Mexico                      1040 non-null   int64  \n",
      " 32  Malaysia                    1040 non-null   int64  \n",
      " 33  South Africa                1040 non-null   int64  \n",
      " 34  Austria                     1040 non-null   int64  \n",
      " 35  Norway                      1040 non-null   int64  \n",
      " 36  Israel                      1040 non-null   int64  \n",
      " 37  Finland                     1040 non-null   int64  \n",
      " 38  Indonesia                   1040 non-null   int64  \n",
      " 39  Turkey                      1040 non-null   int64  \n",
      " 40  Colombia                    1040 non-null   int64  \n",
      " 41  Poland                      1040 non-null   int64  \n",
      " 42  Bermuda                     1040 non-null   int64  \n",
      " 43  Kuwait                      1040 non-null   int64  \n",
      " 44  Peru                        1040 non-null   int64  \n",
      " 45  Qatar                       1040 non-null   int64  \n",
      " 46  Chile                       1040 non-null   int64  \n",
      " 47  Czech Republic              1040 non-null   int64  \n",
      " 48  Portugal                    1040 non-null   int64  \n",
      " 49  Argentina                   1040 non-null   int64  \n",
      " 50  Philippines                 1040 non-null   int64  \n",
      " 51  Luxembourg                  1040 non-null   int64  \n",
      " 52  Morocco                     1040 non-null   int64  \n",
      " 53  Jordan                      1040 non-null   int64  \n",
      " 54  Hungary                     1040 non-null   int64  \n",
      " 55  Lebanon                     1040 non-null   int64  \n",
      " 56  Nigeria                     1040 non-null   int64  \n",
      " 57  Oman                        1040 non-null   int64  \n",
      " 58  Greece                      1040 non-null   int64  \n",
      " 59  Vietnam                     1040 non-null   int64  \n",
      " 60  Egypt                       1040 non-null   int64  \n",
      " 61  Puerto Rico                 1040 non-null   int64  \n",
      " 62  Bahrain                     1040 non-null   int64  \n",
      " 63  Financials                  1040 non-null   int64  \n",
      " 64  Information Technology      1040 non-null   int64  \n",
      " 65  Telecommunication Services  1040 non-null   int64  \n",
      " 66  Energy                      1040 non-null   int64  \n",
      " 67  Industrials                 1040 non-null   int64  \n",
      " 68  Consumer Discretionary      1040 non-null   int64  \n",
      " 69  Health Care                 1040 non-null   int64  \n",
      " 70  Consumer Staples            1040 non-null   int64  \n",
      " 71  Materials                   1040 non-null   int64  \n",
      " 72  Utilities                   1040 non-null   int64  \n",
      " 73  nan                         1040 non-null   int64  \n",
      "dtypes: float64(5), int64(69)\n",
      "memory usage: 609.4 KB\n"
     ]
    }
   ],
   "source": [
    "X = train_df.drop([\"Churn\"], axis=1)\n",
    "y = train_df[\"Churn\"]\n",
    "X_train, X_test, y_train, y_test = train_test_split(X, y, test_size=0.3, random_state=99)\n",
    "X_train.info()"
   ]
  },
  {
   "cell_type": "code",
   "execution_count": 200,
   "metadata": {},
   "outputs": [],
   "source": [
    "from sklearn.linear_model import LogisticRegression"
   ]
  },
  {
   "cell_type": "code",
   "execution_count": 202,
   "metadata": {
    "pycharm": {
     "name": "#%%\n"
    }
   },
   "outputs": [
    {
     "name": "stdout",
     "output_type": "stream",
     "text": [
      "81.20805369127517 %\n",
      "Feature: y2019, Score: 0.89807\n",
      "Feature: Brazil, Score: 0.54323\n",
      "Feature: Ireland, Score: 0.91486\n",
      "Feature: Thailand, Score: 0.54994\n",
      "Feature: Mexico, Score: 0.50326\n",
      "Feature: Finland, Score: 0.59626\n",
      "Feature: Colombia, Score: 0.81784\n",
      "Feature: Peru, Score: 0.80034\n",
      "Feature: Qatar, Score: 0.77438\n",
      "Feature: Czech Republic, Score: 0.70177\n",
      "Feature: Portugal, Score: 0.79294\n",
      "Feature: Information Technology, Score: 0.58487\n",
      "Feature: Industrials, Score: 0.55374\n"
     ]
    }
   ],
   "source": [
    "model = LogisticRegression()\n",
    "model.fit(X_train, y_train)\n",
    "accuracy = model.score(X_test, y_test)\n",
    "print(accuracy * 100, '%')\n",
    "# summarize feature importance\n",
    "for i, v in enumerate(model.coef_[0]):\n",
    "    if v > 0.5:\n",
    "        print('Feature: %0s, Score: %.5f' % (X_train.columns[i], v))"
   ]
  },
  {
   "cell_type": "markdown",
   "metadata": {},
   "source": [
    "### Making the model re-usable"
   ]
  },
  {
   "cell_type": "code",
   "execution_count": 203,
   "metadata": {
    "pycharm": {
     "name": "#%%\n"
    }
   },
   "outputs": [
    {
     "name": "stdout",
     "output_type": "stream",
     "text": [
      "<class 'pandas.core.frame.DataFrame'>\n",
      "Int64Index: 513 entries, 7 to 1999\n",
      "Data columns (total 12 columns):\n",
      " #   Column        Non-Null Count  Dtype \n",
      "---  ------        --------------  ----- \n",
      " 0   Company       513 non-null    object\n",
      " 1   Country       513 non-null    object\n",
      " 2   Region        513 non-null    object\n",
      " 3   Sector        463 non-null    object\n",
      " 4   Manager       513 non-null    object\n",
      " 5   y2015         513 non-null    int64 \n",
      " 6   y2016         513 non-null    int64 \n",
      " 7   y2017         513 non-null    int64 \n",
      " 8   y2018         513 non-null    int64 \n",
      " 9   y2019         513 non-null    int64 \n",
      " 10  RenewalMonth  513 non-null    int64 \n",
      " 11  RenewalDate   513 non-null    object\n",
      "dtypes: int64(6), object(6)\n",
      "memory usage: 52.1+ KB\n"
     ]
    }
   ],
   "source": [
    "live_df = df[df[\"Churn\"].isnull()]\n",
    "live_df = live_df.drop([\"Churn\"], axis=1)\n",
    "live_df.info()"
   ]
  },
  {
   "cell_type": "code",
   "execution_count": 204,
   "metadata": {},
   "outputs": [],
   "source": [
    "from sklearn.base import BaseEstimator, TransformerMixin"
   ]
  },
  {
   "cell_type": "code",
   "execution_count": 205,
   "metadata": {
    "pycharm": {
     "name": "#%%\n"
    }
   },
   "outputs": [],
   "source": [
    "class PrepareData(BaseEstimator, TransformerMixin):\n",
    "    def __init__(self):\n",
    "        pass\n",
    "\n",
    "    def transform(self, X, **transform_params):\n",
    "        X_prepared = X.copy()\n",
    "\n",
    "        def n_years(row):\n",
    "            l = [row[\"y2019\"], row[\"y2018\"], row[\"y2017\"], row[\"y2016\"], row[\"y2015\"]]\n",
    "            return len([x for x in l if x != 0])\n",
    "\n",
    "        X_prepared[\"Years\"] = X_prepared.apply(n_years, axis=1)\n",
    "\n",
    "        X_prepared = X_prepared.drop([\"Company\", \"Region\", \"Manager\", \"RenewalMonth\", \"RenewalDate\"], axis=1)\n",
    "\n",
    "        for col in [\"y2015\", \"y2016\", \"y2017\", \"y2018\", \"y2019\"]:\n",
    "            X_prepared[col] = X_prepared[col] / X_prepared[col].max()\n",
    "\n",
    "        for c in X[\"Country\"].unique():\n",
    "            X_prepared[c] = X_prepared[\"Country\"].apply(lambda x: 1 if x == c else 0)\n",
    "\n",
    "        for s in X[\"Sector\"].unique():\n",
    "            if s:\n",
    "                X_prepared[s] = X_prepared[\"Sector\"].apply(lambda x: 1 if x == s else 0)\n",
    "\n",
    "        X_prepared = X_prepared.drop([\"Country\", \"Sector\"], axis=1)\n",
    "        return X_prepared\n",
    "\n",
    "    def fit(self, X, y=None, **fit_params):\n",
    "        return self"
   ]
  },
  {
   "cell_type": "code",
   "execution_count": 206,
   "metadata": {
    "pycharm": {
     "name": "#%%\n"
    }
   },
   "outputs": [
    {
     "name": "stdout",
     "output_type": "stream",
     "text": [
      "<class 'pandas.core.frame.DataFrame'>\n",
      "Int64Index: 513 entries, 7 to 1999\n",
      "Data columns (total 70 columns):\n",
      " #   Column                      Non-Null Count  Dtype  \n",
      "---  ------                      --------------  -----  \n",
      " 0   y2015                       513 non-null    float64\n",
      " 1   y2016                       513 non-null    float64\n",
      " 2   y2017                       513 non-null    float64\n",
      " 3   y2018                       513 non-null    float64\n",
      " 4   y2019                       513 non-null    float64\n",
      " 5   Years                       513 non-null    int64  \n",
      " 6   China                       513 non-null    int64  \n",
      " 7   Japan                       513 non-null    int64  \n",
      " 8   Netherlands                 513 non-null    int64  \n",
      " 9   France                      513 non-null    int64  \n",
      " 10  United States               513 non-null    int64  \n",
      " 11  Canada                      513 non-null    int64  \n",
      " 12  India                       513 non-null    int64  \n",
      " 13  Switzerland                 513 non-null    int64  \n",
      " 14  United Kingdom              513 non-null    int64  \n",
      " 15  Italy                       513 non-null    int64  \n",
      " 16  Belgium                     513 non-null    int64  \n",
      " 17  Taiwan                      513 non-null    int64  \n",
      " 18  South Korea                 513 non-null    int64  \n",
      " 19  Luxembourg                  513 non-null    int64  \n",
      " 20  Qatar                       513 non-null    int64  \n",
      " 21  Spain                       513 non-null    int64  \n",
      " 22  Norway                      513 non-null    int64  \n",
      " 23  Ireland                     513 non-null    int64  \n",
      " 24  Singapore                   513 non-null    int64  \n",
      " 25  Hong Kong                   513 non-null    int64  \n",
      " 26  Indonesia                   513 non-null    int64  \n",
      " 27  Saudi Arabia                513 non-null    int64  \n",
      " 28  Portugal                    513 non-null    int64  \n",
      " 29  South Africa                513 non-null    int64  \n",
      " 30  Chile                       513 non-null    int64  \n",
      " 31  Mexico                      513 non-null    int64  \n",
      " 32  Germany                     513 non-null    int64  \n",
      " 33  Sweden                      513 non-null    int64  \n",
      " 34  United Arab Emirates        513 non-null    int64  \n",
      " 35  Malaysia                    513 non-null    int64  \n",
      " 36  Australia                   513 non-null    int64  \n",
      " 37  Colombia                    513 non-null    int64  \n",
      " 38  Finland                     513 non-null    int64  \n",
      " 39  Russia                      513 non-null    int64  \n",
      " 40  Philippines                 513 non-null    int64  \n",
      " 41  Bermuda                     513 non-null    int64  \n",
      " 42  Austria                     513 non-null    int64  \n",
      " 43  Brazil                      513 non-null    int64  \n",
      " 44  Poland                      513 non-null    int64  \n",
      " 45  Venezuela                   513 non-null    int64  \n",
      " 46  Israel                      513 non-null    int64  \n",
      " 47  Hungary                     513 non-null    int64  \n",
      " 48  Thailand                    513 non-null    int64  \n",
      " 49  Bahrain                     513 non-null    int64  \n",
      " 50  Mongolia                    513 non-null    int64  \n",
      " 51  Denmark                     513 non-null    int64  \n",
      " 52  Turkey                      513 non-null    int64  \n",
      " 53  Greece                      513 non-null    int64  \n",
      " 54  Peru                        513 non-null    int64  \n",
      " 55  Vietnam                     513 non-null    int64  \n",
      " 56  Argentina                   513 non-null    int64  \n",
      " 57  Pakistan                    513 non-null    int64  \n",
      " 58  Morocco                     513 non-null    int64  \n",
      " 59  Financials                  513 non-null    int64  \n",
      " 60  Consumer Discretionary      513 non-null    int64  \n",
      " 61  Energy                      513 non-null    int64  \n",
      " 62  Information Technology      513 non-null    int64  \n",
      " 63  Consumer Staples            513 non-null    int64  \n",
      " 64  Industrials                 513 non-null    int64  \n",
      " 65  Utilities                   513 non-null    int64  \n",
      " 66  Telecommunication Services  513 non-null    int64  \n",
      " 67  Materials                   513 non-null    int64  \n",
      " 68  nan                         513 non-null    int64  \n",
      " 69  Health Care                 513 non-null    int64  \n",
      "dtypes: float64(5), int64(65)\n",
      "memory usage: 284.6 KB\n"
     ]
    }
   ],
   "source": [
    "prepared_df = PrepareData().transform(live_df)\n",
    "prepared_df.info()"
   ]
  },
  {
   "cell_type": "code",
   "execution_count": 185,
   "metadata": {
    "pycharm": {
     "name": "#%%\n"
    }
   },
   "outputs": [],
   "source": [
    "# predicted_churn = model.predict(prepared_df)  # ValueError: X has 70 features per sample; expecting 74"
   ]
  },
  {
   "cell_type": "code",
   "execution_count": 207,
   "metadata": {
    "pycharm": {
     "name": "#%%\n"
    }
   },
   "outputs": [],
   "source": [
    "class ReindexColumns(BaseEstimator, TransformerMixin):\n",
    "    def __init__(self, columns):\n",
    "        self.columns = columns\n",
    "\n",
    "    def transform(self, X, **transform_params):\n",
    "        return X.reindex(columns=self.columns, fill_value=0)\n",
    "\n",
    "    def fit(self, X, y=None, **fit_params):\n",
    "        return self"
   ]
  },
  {
   "cell_type": "code",
   "execution_count": 208,
   "metadata": {
    "pycharm": {
     "name": "#%%\n"
    }
   },
   "outputs": [
    {
     "name": "stdout",
     "output_type": "stream",
     "text": [
      "<class 'pandas.core.frame.DataFrame'>\n",
      "Int64Index: 513 entries, 7 to 1999\n",
      "Data columns (total 74 columns):\n",
      " #   Column                      Non-Null Count  Dtype  \n",
      "---  ------                      --------------  -----  \n",
      " 0   y2015                       513 non-null    float64\n",
      " 1   y2016                       513 non-null    float64\n",
      " 2   y2017                       513 non-null    float64\n",
      " 3   y2018                       513 non-null    float64\n",
      " 4   y2019                       513 non-null    float64\n",
      " 5   China                       513 non-null    int64  \n",
      " 6   United States               513 non-null    int64  \n",
      " 7   South Korea                 513 non-null    int64  \n",
      " 8   Germany                     513 non-null    int64  \n",
      " 9   Hong Kong                   513 non-null    int64  \n",
      " 10  France                      513 non-null    int64  \n",
      " 11  Japan                       513 non-null    int64  \n",
      " 12  Spain                       513 non-null    int64  \n",
      " 13  Switzerland                 513 non-null    int64  \n",
      " 14  Brazil                      513 non-null    int64  \n",
      " 15  Russia                      513 non-null    int64  \n",
      " 16  Canada                      513 non-null    int64  \n",
      " 17  United Kingdom              513 non-null    int64  \n",
      " 18  Netherlands                 513 non-null    int64  \n",
      " 19  Australia                   513 non-null    int64  \n",
      " 20  Taiwan                      513 non-null    int64  \n",
      " 21  Italy                       513 non-null    int64  \n",
      " 22  Ireland                     513 non-null    int64  \n",
      " 23  Saudi Arabia                513 non-null    int64  \n",
      " 24  Sweden                      513 non-null    int64  \n",
      " 25  Thailand                    513 non-null    int64  \n",
      " 26  Denmark                     513 non-null    int64  \n",
      " 27  India                       513 non-null    int64  \n",
      " 28  Singapore                   513 non-null    int64  \n",
      " 29  Belgium                     513 non-null    int64  \n",
      " 30  United Arab Emirates        513 non-null    int64  \n",
      " 31  Mexico                      513 non-null    int64  \n",
      " 32  Malaysia                    513 non-null    int64  \n",
      " 33  South Africa                513 non-null    int64  \n",
      " 34  Austria                     513 non-null    int64  \n",
      " 35  Norway                      513 non-null    int64  \n",
      " 36  Israel                      513 non-null    int64  \n",
      " 37  Finland                     513 non-null    int64  \n",
      " 38  Indonesia                   513 non-null    int64  \n",
      " 39  Turkey                      513 non-null    int64  \n",
      " 40  Colombia                    513 non-null    int64  \n",
      " 41  Poland                      513 non-null    int64  \n",
      " 42  Bermuda                     513 non-null    int64  \n",
      " 43  Kuwait                      513 non-null    int64  \n",
      " 44  Peru                        513 non-null    int64  \n",
      " 45  Qatar                       513 non-null    int64  \n",
      " 46  Chile                       513 non-null    int64  \n",
      " 47  Czech Republic              513 non-null    int64  \n",
      " 48  Portugal                    513 non-null    int64  \n",
      " 49  Argentina                   513 non-null    int64  \n",
      " 50  Philippines                 513 non-null    int64  \n",
      " 51  Luxembourg                  513 non-null    int64  \n",
      " 52  Morocco                     513 non-null    int64  \n",
      " 53  Jordan                      513 non-null    int64  \n",
      " 54  Hungary                     513 non-null    int64  \n",
      " 55  Lebanon                     513 non-null    int64  \n",
      " 56  Nigeria                     513 non-null    int64  \n",
      " 57  Oman                        513 non-null    int64  \n",
      " 58  Greece                      513 non-null    int64  \n",
      " 59  Vietnam                     513 non-null    int64  \n",
      " 60  Egypt                       513 non-null    int64  \n",
      " 61  Puerto Rico                 513 non-null    int64  \n",
      " 62  Bahrain                     513 non-null    int64  \n",
      " 63  Financials                  513 non-null    int64  \n",
      " 64  Information Technology      513 non-null    int64  \n",
      " 65  Telecommunication Services  513 non-null    int64  \n",
      " 66  Energy                      513 non-null    int64  \n",
      " 67  Industrials                 513 non-null    int64  \n",
      " 68  Consumer Discretionary      513 non-null    int64  \n",
      " 69  Health Care                 513 non-null    int64  \n",
      " 70  Consumer Staples            513 non-null    int64  \n",
      " 71  Materials                   513 non-null    int64  \n",
      " 72  Utilities                   513 non-null    int64  \n",
      " 73  nan                         513 non-null    int64  \n",
      "dtypes: float64(5), int64(69)\n",
      "memory usage: 300.6 KB\n"
     ]
    }
   ],
   "source": [
    "reindexed_df = ReindexColumns(X.columns).transform(prepared_df)\n",
    "reindexed_df.info()"
   ]
  },
  {
   "cell_type": "code",
   "execution_count": 209,
   "metadata": {},
   "outputs": [],
   "source": [
    "from scipy.stats import describe"
   ]
  },
  {
   "cell_type": "code",
   "execution_count": 210,
   "metadata": {
    "pycharm": {
     "name": "#%%\n"
    }
   },
   "outputs": [
    {
     "data": {
      "text/plain": [
       "DescribeResult(nobs=513, minmax=(0.0, 1.0), mean=0.001949317738791423, variance=0.0019493177387914218, skewness=22.583222824145377, kurtosis=508.0019531250005)"
      ]
     },
     "execution_count": 210,
     "metadata": {},
     "output_type": "execute_result"
    }
   ],
   "source": [
    "predicted_churn = model.predict(reindexed_df)\n",
    "describe(predicted_churn)"
   ]
  },
  {
   "cell_type": "code",
   "execution_count": 211,
   "metadata": {},
   "outputs": [],
   "source": [
    "from sklearn.pipeline import Pipeline"
   ]
  },
  {
   "cell_type": "code",
   "execution_count": 212,
   "metadata": {
    "pycharm": {
     "name": "#%%\n"
    }
   },
   "outputs": [
    {
     "data": {
      "text/plain": [
       "DescribeResult(nobs=513, minmax=(0.0, 1.0), mean=0.003898635477582846, variance=0.0038910209551656924, skewness=15.921806238436796, kurtosis=251.5039138943249)"
      ]
     },
     "execution_count": 212,
     "metadata": {},
     "output_type": "execute_result"
    }
   ],
   "source": [
    "pipeline = Pipeline([\n",
    "    ('prepare', PrepareData()),\n",
    "    ('reindex', ReindexColumns(X.columns)),\n",
    "    ('regression', LogisticRegression())\n",
    "])\n",
    "X_1 = df[df[\"Churn\"].notnull()]\n",
    "y_1 = X_1[\"Churn\"]\n",
    "X_1 = X_1.drop([\"Churn\"], axis=1)\n",
    "pipeline.fit(X_1, y_1)\n",
    "predicted_churn = pipeline.predict(live_df)\n",
    "describe(predicted_churn)"
   ]
  },
  {
   "cell_type": "markdown",
   "metadata": {},
   "source": [
    "### Intro to dstack\n",
    "\n",
    "\n",
    "### Deploying the model to dstack"
   ]
  },
  {
   "cell_type": "markdown",
   "metadata": {},
   "source": [
    "### Building the application"
   ]
  }
 ],
 "metadata": {
  "kernelspec": {
   "display_name": "Python 3",
   "language": "python",
   "name": "python3"
  },
  "language_info": {
   "codemirror_mode": {
    "name": "ipython",
    "version": 3
   },
   "file_extension": ".py",
   "mimetype": "text/x-python",
   "name": "python",
   "nbconvert_exporter": "python",
   "pygments_lexer": "ipython3",
   "version": "3.7.6"
  },
  "toc": {
   "base_numbering": 1,
   "nav_menu": {},
   "number_sections": true,
   "sideBar": true,
   "skip_h1_title": false,
   "title_cell": "Table of Contents",
   "title_sidebar": "Contents",
   "toc_cell": false,
   "toc_position": {},
   "toc_section_display": true,
   "toc_window_display": true
  }
 },
 "nbformat": 4,
 "nbformat_minor": 1
}