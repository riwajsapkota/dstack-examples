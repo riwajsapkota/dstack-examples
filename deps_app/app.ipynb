{
 "cells": [
  {
   "cell_type": "code",
   "execution_count": 1,
   "metadata": {
    "collapsed": true
   },
   "source": [
    "import dstack as ds\n",
    "import dstack.controls as ctrl\n",
    "\n",
    "from handlers import fake_handler\n",
    "\n",
    "app = ds.app(outputs=[ctrl.Output(handler=fake_handler)], depends=[\"handlers\", \"utils\"],\n",
    "             requirements=\"requirements.txt\")\n",
    "\n",
    "# An equal alternative to this is the following:\n",
    "# ds.app(outputs=[ctrl.Output(handler=fake_handler)], depends=[\"numpy\", \"pandas\", \"faker==5.5.0\", \"handlers\", \"utils\"])\n",
    "\n",
    "url = ds.push(\"deps_app_j\", app)\n",
    "print(url)\n"
   ],
   "outputs": [
    {
     "name": "stdout",
     "output_type": "stream",
     "text": [
      "http://localhost:8082/foo/deps_app_j\n"
     ]
    }
   ]
  }
 ],
 "metadata": {
  "kernelspec": {
   "display_name": "Python 3",
   "language": "python",
   "name": "python3"
  },
  "language_info": {
   "codemirror_mode": {
    "name": "ipython",
    "version": 2
   },
   "file_extension": ".py",
   "mimetype": "text/x-python",
   "name": "python",
   "nbconvert_exporter": "python",
   "pygments_lexer": "ipython2",
   "version": "2.7.6"
  }
 },
 "nbformat": 4,
 "nbformat_minor": 0
}